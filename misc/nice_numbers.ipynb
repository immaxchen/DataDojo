{
 "cells": [
  {
   "cell_type": "code",
   "execution_count": 1,
   "metadata": {},
   "outputs": [],
   "source": [
    "import math\n",
    "\n",
    "def nice_number(value, round_=False):\n",
    "    '''nice_number(value, round_=False) -> float'''\n",
    "    exponent = math.floor(math.log(value, 10))\n",
    "    fraction = value / 10 ** exponent\n",
    "\n",
    "    if round_:\n",
    "        if fraction < 1.5: nice_fraction = 1.\n",
    "        elif fraction < 3.: nice_fraction = 2.\n",
    "        elif fraction < 7.: nice_fraction = 5.\n",
    "        else: niceFraction = 10.\n",
    "    else:\n",
    "        if fraction <= 1: nice_fraction = 1.\n",
    "        elif fraction <= 2: nice_fraction = 2.\n",
    "        elif fraction <= 5: nice_fraction = 5.\n",
    "        else: nice_fraction = 10.\n",
    "\n",
    "    return nice_fraction * 10 ** exponent\n",
    "\n",
    "def nice_bounds(axis_start, axis_end, num_ticks=10):\n",
    "    '''\n",
    "    nice_bounds(axis_start, axis_end, num_ticks=10) -> tuple\n",
    "    @return: tuple as (nice_axis_start, nice_axis_end, nice_tick_width)\n",
    "    '''\n",
    "    axis_width = axis_end - axis_start\n",
    "    if axis_width == 0:\n",
    "        nice_tick = 0\n",
    "    else:\n",
    "        nice_range = nice_number(axis_width)\n",
    "        nice_tick = nice_number(nice_range / (num_ticks -1), round_=True)\n",
    "        axis_start = math.floor(axis_start / nice_tick) * nice_tick\n",
    "        axis_end = math.ceil(axis_end / nice_tick) * nice_tick\n",
    "\n",
    "    return axis_start, axis_end, nice_tick"
   ]
  },
  {
   "cell_type": "code",
   "execution_count": 2,
   "metadata": {},
   "outputs": [
    {
     "data": {
      "text/plain": [
       "20000.0"
      ]
     },
     "execution_count": 2,
     "metadata": {},
     "output_type": "execute_result"
    }
   ],
   "source": [
    "nice_number(12345)"
   ]
  },
  {
   "cell_type": "code",
   "execution_count": 3,
   "metadata": {},
   "outputs": [
    {
     "data": {
      "text/plain": [
       "(26.400000000000002, 28.400000000000002, 0.2)"
      ]
     },
     "execution_count": 3,
     "metadata": {},
     "output_type": "execute_result"
    }
   ],
   "source": [
    "nice_bounds(26.5, 28.3)"
   ]
  },
  {
   "cell_type": "markdown",
   "metadata": {},
   "source": [
    "### more reading\n",
    "\n",
    "https://stackoverflow.com/questions/4947682/intelligently-calculating-chart-tick-positions"
   ]
  },
  {
   "cell_type": "code",
   "execution_count": null,
   "metadata": {},
   "outputs": [],
   "source": []
  }
 ],
 "metadata": {
  "kernelspec": {
   "display_name": "Python 3",
   "language": "python",
   "name": "python3"
  },
  "language_info": {
   "codemirror_mode": {
    "name": "ipython",
    "version": 3
   },
   "file_extension": ".py",
   "mimetype": "text/x-python",
   "name": "python",
   "nbconvert_exporter": "python",
   "pygments_lexer": "ipython3",
   "version": "3.6.8"
  }
 },
 "nbformat": 4,
 "nbformat_minor": 2
}
