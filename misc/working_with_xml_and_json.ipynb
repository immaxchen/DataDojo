{
 "cells": [
  {
   "cell_type": "code",
   "execution_count": 1,
   "metadata": {},
   "outputs": [],
   "source": [
    "import pprint as pp\n",
    "import xmltodict\n",
    "import json"
   ]
  },
  {
   "cell_type": "code",
   "execution_count": 2,
   "metadata": {},
   "outputs": [
    {
     "name": "stdout",
     "output_type": "stream",
     "text": [
      "<?xml version=\"1.0\" encoding=\"utf-8\"?>\n",
      "<mydocument has=\"an attribute\">\n",
      "  <and>\n",
      "    <many>elements</many>\n",
      "    <many>more elements</many>\n",
      "  </and>\n",
      "  <plus a=\"complex\">\n",
      "    element as well\n",
      "  </plus>\n",
      "</mydocument>\n",
      "\n"
     ]
    }
   ],
   "source": [
    "xml_string = \"\"\"<?xml version=\"1.0\" encoding=\"utf-8\"?>\n",
    "<mydocument has=\"an attribute\">\n",
    "  <and>\n",
    "    <many>elements</many>\n",
    "    <many>more elements</many>\n",
    "  </and>\n",
    "  <plus a=\"complex\">\n",
    "    element as well\n",
    "  </plus>\n",
    "</mydocument>\n",
    "\"\"\"\n",
    "print(xml_string)"
   ]
  },
  {
   "cell_type": "code",
   "execution_count": 3,
   "metadata": {},
   "outputs": [
    {
     "name": "stdout",
     "output_type": "stream",
     "text": [
      "{'mydocument': {'@has': 'an attribute',\n",
      "                'and': {'many': ['elements', 'more elements']},\n",
      "                'plus': {'#text': 'element as well', '@a': 'complex'}}}\n"
     ]
    }
   ],
   "source": [
    "data = xmltodict.parse(xml_string, dict_constructor=dict)\n",
    "pp.pprint(data)"
   ]
  },
  {
   "cell_type": "code",
   "execution_count": 4,
   "metadata": {},
   "outputs": [
    {
     "name": "stdout",
     "output_type": "stream",
     "text": [
      "<?xml version=\"1.0\" encoding=\"utf-8\"?>\n",
      "<mydocument has=\"an attribute\">\n",
      "  <and>\n",
      "    <many>elements</many>\n",
      "    <many>more elements</many>\n",
      "  </and>\n",
      "  <plus a=\"complex\">element as well</plus>\n",
      "</mydocument>\n"
     ]
    }
   ],
   "source": [
    "xml_again = xmltodict.unparse(data, pretty=True, indent='  ')\n",
    "print(xml_again)"
   ]
  },
  {
   "cell_type": "code",
   "execution_count": 5,
   "metadata": {},
   "outputs": [
    {
     "name": "stdout",
     "output_type": "stream",
     "text": [
      "{\n",
      "  \"mydocument\": {\n",
      "    \"@has\": \"an attribute\",\n",
      "    \"and\": {\n",
      "      \"many\": [\n",
      "        \"elements\",\n",
      "        \"more elements\"\n",
      "      ]\n",
      "    },\n",
      "    \"plus\": {\n",
      "      \"@a\": \"complex\",\n",
      "      \"#text\": \"element as well\"\n",
      "    }\n",
      "  }\n",
      "}\n"
     ]
    }
   ],
   "source": [
    "json_string = json.dumps(data, indent=2)\n",
    "print(json_string)"
   ]
  },
  {
   "cell_type": "code",
   "execution_count": 6,
   "metadata": {},
   "outputs": [
    {
     "name": "stdout",
     "output_type": "stream",
     "text": [
      "{'mydocument': {'@has': 'an attribute',\n",
      "                'and': {'many': ['elements', 'more elements']},\n",
      "                'plus': {'#text': 'element as well', '@a': 'complex'}}}\n"
     ]
    }
   ],
   "source": [
    "data_again = json.loads(json_string)\n",
    "pp.pprint(data_again)"
   ]
  },
  {
   "cell_type": "code",
   "execution_count": null,
   "metadata": {},
   "outputs": [],
   "source": []
  }
 ],
 "metadata": {
  "kernelspec": {
   "display_name": "Python 3",
   "language": "python",
   "name": "python3"
  },
  "language_info": {
   "codemirror_mode": {
    "name": "ipython",
    "version": 3
   },
   "file_extension": ".py",
   "mimetype": "text/x-python",
   "name": "python",
   "nbconvert_exporter": "python",
   "pygments_lexer": "ipython3",
   "version": "3.6.4"
  }
 },
 "nbformat": 4,
 "nbformat_minor": 2
}
