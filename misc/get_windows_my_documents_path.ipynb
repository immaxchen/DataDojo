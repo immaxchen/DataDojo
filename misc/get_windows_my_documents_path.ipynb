{
 "cells": [
  {
   "cell_type": "code",
   "execution_count": 1,
   "metadata": {},
   "outputs": [
    {
     "name": "stdout",
     "output_type": "stream",
     "text": [
      "C:\\Users\\user\\Documents\\sample.txt\n"
     ]
    }
   ],
   "source": [
    "import os.path\n",
    "import ctypes.wintypes\n",
    "\n",
    "CSIDL_PERSONAL = 5 # My Documents\n",
    "SHGFP_TYPE_CUTTENT = 0 # Get current, not default value\n",
    "\n",
    "buf = ctypes.create_unicode_buffer(ctypes.wintypes.MAX_PATH)\n",
    "ctypes.windll.shell32.SHGetFolderPathW(None, CSIDL_PERSONAL, None, SHGFP_TYPE_CUTTENT, buf)\n",
    "\n",
    "filepath = os.path.join(buf.value, 'sample.txt')\n",
    "print(filepath)"
   ]
  },
  {
   "cell_type": "code",
   "execution_count": null,
   "metadata": {},
   "outputs": [],
   "source": []
  }
 ],
 "metadata": {
  "kernelspec": {
   "display_name": "Python 3",
   "language": "python",
   "name": "python3"
  },
  "language_info": {
   "codemirror_mode": {
    "name": "ipython",
    "version": 3
   },
   "file_extension": ".py",
   "mimetype": "text/x-python",
   "name": "python",
   "nbconvert_exporter": "python",
   "pygments_lexer": "ipython3",
   "version": "3.6.4"
  }
 },
 "nbformat": 4,
 "nbformat_minor": 2
}
