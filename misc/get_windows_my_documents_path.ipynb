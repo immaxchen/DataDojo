{
 "cells": [
  {
   "cell_type": "code",
   "execution_count": 1,
   "metadata": {},
   "outputs": [
    {
     "name": "stdout",
     "output_type": "stream",
     "text": [
      "1.txt\n",
      "2.txt\n",
      "3.txt\n"
     ]
    }
   ],
   "source": [
    "from os import path, listdir\n",
    "import ctypes.wintypes\n",
    "\n",
    "CSIDL_PERSONAL = 5 # My Documents\n",
    "SHGFP_TYPE_CUTTENT = 0 # Get current, not default value\n",
    "\n",
    "buf = ctypes.create_unicode_buffer(ctypes.wintypes.MAX_PATH)\n",
    "ctypes.windll.shell32.SHGetFolderPathW(None, CSIDL_PERSONAL, None, SHGFP_TYPE_CUTTENT, buf)\n",
    "\n",
    "my_dir_path = path.join(buf.value, 'MyFiles')\n",
    "\n",
    "for item in listdir(my_dir_path):\n",
    "    print(item)"
   ]
  },
  {
   "cell_type": "code",
   "execution_count": null,
   "metadata": {},
   "outputs": [],
   "source": []
  }
 ],
 "metadata": {
  "kernelspec": {
   "display_name": "Python 3",
   "language": "python",
   "name": "python3"
  },
  "language_info": {
   "codemirror_mode": {
    "name": "ipython",
    "version": 3
   },
   "file_extension": ".py",
   "mimetype": "text/x-python",
   "name": "python",
   "nbconvert_exporter": "python",
   "pygments_lexer": "ipython3",
   "version": "3.6.4"
  }
 },
 "nbformat": 4,
 "nbformat_minor": 2
}
