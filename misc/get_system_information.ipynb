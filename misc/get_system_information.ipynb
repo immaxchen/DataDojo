{
 "cells": [
  {
   "cell_type": "code",
   "execution_count": 1,
   "metadata": {},
   "outputs": [],
   "source": [
    "import psutil"
   ]
  },
  {
   "cell_type": "markdown",
   "metadata": {},
   "source": [
    "### cpu info"
   ]
  },
  {
   "cell_type": "code",
   "execution_count": 2,
   "metadata": {},
   "outputs": [
    {
     "data": {
      "text/plain": [
       "2"
      ]
     },
     "execution_count": 2,
     "metadata": {},
     "output_type": "execute_result"
    }
   ],
   "source": [
    "psutil.cpu_count(logical=False)"
   ]
  },
  {
   "cell_type": "code",
   "execution_count": 3,
   "metadata": {},
   "outputs": [
    {
     "data": {
      "text/plain": [
       "24.4"
      ]
     },
     "execution_count": 3,
     "metadata": {},
     "output_type": "execute_result"
    }
   ],
   "source": [
    "psutil.cpu_percent()"
   ]
  },
  {
   "cell_type": "markdown",
   "metadata": {},
   "source": [
    "### memory info"
   ]
  },
  {
   "cell_type": "code",
   "execution_count": 4,
   "metadata": {},
   "outputs": [
    {
     "data": {
      "text/plain": [
       "svmem(total=8473829376, available=4042862592, percent=52.3, used=4430966784, free=4042862592)"
      ]
     },
     "execution_count": 4,
     "metadata": {},
     "output_type": "execute_result"
    }
   ],
   "source": [
    "psutil.virtual_memory()"
   ]
  },
  {
   "cell_type": "code",
   "execution_count": 5,
   "metadata": {},
   "outputs": [
    {
     "data": {
      "text/plain": [
       "sswap(total=9816006656, used=5414166528, free=4401840128, percent=55.2, sin=0, sout=0)"
      ]
     },
     "execution_count": 5,
     "metadata": {},
     "output_type": "execute_result"
    }
   ],
   "source": [
    "psutil.swap_memory()"
   ]
  },
  {
   "cell_type": "markdown",
   "metadata": {},
   "source": [
    "### disk info"
   ]
  },
  {
   "cell_type": "code",
   "execution_count": 6,
   "metadata": {},
   "outputs": [
    {
     "data": {
      "text/plain": [
       "[sdiskpart(device='C:\\\\', mountpoint='C:\\\\', fstype='NTFS', opts='rw,fixed'),\n",
       " sdiskpart(device='D:\\\\', mountpoint='D:\\\\', fstype='NTFS', opts='rw,fixed'),\n",
       " sdiskpart(device='E:\\\\', mountpoint='E:\\\\', fstype='', opts='cdrom')]"
      ]
     },
     "execution_count": 6,
     "metadata": {},
     "output_type": "execute_result"
    }
   ],
   "source": [
    "psutil.disk_partitions()"
   ]
  },
  {
   "cell_type": "code",
   "execution_count": 7,
   "metadata": {},
   "outputs": [
    {
     "data": {
      "text/plain": [
       "sdiskusage(total=490825838592, used=233228906496, free=257596932096, percent=47.5)"
      ]
     },
     "execution_count": 7,
     "metadata": {},
     "output_type": "execute_result"
    }
   ],
   "source": [
    "psutil.disk_usage('C:\\\\')"
   ]
  },
  {
   "cell_type": "markdown",
   "metadata": {},
   "source": [
    "### process info"
   ]
  },
  {
   "cell_type": "code",
   "execution_count": 8,
   "metadata": {},
   "outputs": [
    {
     "name": "stdout",
     "output_type": "stream",
     "text": [
      "{'pid': 0, 'username': 'NT AUTHORITY\\\\SYSTEM', 'name': 'System Idle Process'}\n",
      "{'pid': 4, 'username': 'NT AUTHORITY\\\\SYSTEM', 'name': 'System'}\n",
      "{'pid': 96, 'username': None, 'name': 'Registry'}\n",
      "{'pid': 220, 'username': 'MMAX-V3\\\\user', 'name': 'SearchUI.exe'}\n",
      "{'pid': 584, 'username': None, 'name': 'smss.exe'}\n",
      "{'pid': 628, 'username': 'MMAX-V3\\\\user', 'name': 'svchost.exe'}\n",
      "{'pid': 744, 'username': None, 'name': 'lsass.exe'}\n",
      "{'pid': 776, 'username': None, 'name': 'services.exe'}\n",
      "{'pid': 852, 'username': None, 'name': 'csrss.exe'}\n",
      "{'pid': 884, 'username': None, 'name': 'svchost.exe'}\n"
     ]
    }
   ],
   "source": [
    "procs = psutil.process_iter(attrs=['pid', 'name', 'username'])\n",
    "for i in range(10):\n",
    "    proc = next(procs)\n",
    "    print(proc.info)"
   ]
  },
  {
   "cell_type": "code",
   "execution_count": null,
   "metadata": {},
   "outputs": [],
   "source": []
  }
 ],
 "metadata": {
  "kernelspec": {
   "display_name": "Python 3",
   "language": "python",
   "name": "python3"
  },
  "language_info": {
   "codemirror_mode": {
    "name": "ipython",
    "version": 3
   },
   "file_extension": ".py",
   "mimetype": "text/x-python",
   "name": "python",
   "nbconvert_exporter": "python",
   "pygments_lexer": "ipython3",
   "version": "3.6.4"
  }
 },
 "nbformat": 4,
 "nbformat_minor": 2
}
