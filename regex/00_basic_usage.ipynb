{
 "cells": [
  {
   "cell_type": "code",
   "execution_count": 1,
   "metadata": {},
   "outputs": [],
   "source": [
    "import re"
   ]
  },
  {
   "cell_type": "markdown",
   "metadata": {},
   "source": [
    "### match-object : matched location, substring and groupings"
   ]
  },
  {
   "cell_type": "code",
   "execution_count": 2,
   "metadata": {},
   "outputs": [],
   "source": [
    "def print_match_obj(result):\n",
    "    if result:\n",
    "        print('Matched location: %d-%d' % result.span())\n",
    "        print('Matched substring: %s' % result.group())\n",
    "    else:\n",
    "        print('Match not found')\n",
    "    print()"
   ]
  },
  {
   "cell_type": "code",
   "execution_count": 3,
   "metadata": {},
   "outputs": [
    {
     "name": "stdout",
     "output_type": "stream",
     "text": [
      "\n"
     ]
    }
   ],
   "source": [
    "pattern = r'[A-Z]+'\n",
    "\n",
    "string_1 = 'ABCD EFGH'\n",
    "string_2 = '1234 5678 ABCD EFGH'\n",
    "\n",
    "print()"
   ]
  },
  {
   "cell_type": "markdown",
   "metadata": {},
   "source": [
    "### match : return first match only look at the beginning of the string"
   ]
  },
  {
   "cell_type": "code",
   "execution_count": 4,
   "metadata": {},
   "outputs": [
    {
     "name": "stdout",
     "output_type": "stream",
     "text": [
      "Matched location: 0-4\n",
      "Matched substring: ABCD\n",
      "\n"
     ]
    }
   ],
   "source": [
    "result = re.match(pattern, string_1)\n",
    "print_match_obj(result)"
   ]
  },
  {
   "cell_type": "code",
   "execution_count": 5,
   "metadata": {},
   "outputs": [
    {
     "name": "stdout",
     "output_type": "stream",
     "text": [
      "Match not found\n",
      "\n"
     ]
    }
   ],
   "source": [
    "result = re.match(pattern, string_2)\n",
    "print_match_obj(result)"
   ]
  },
  {
   "cell_type": "markdown",
   "metadata": {},
   "source": [
    "### search : return first match by scanning the whole string"
   ]
  },
  {
   "cell_type": "code",
   "execution_count": 6,
   "metadata": {},
   "outputs": [
    {
     "name": "stdout",
     "output_type": "stream",
     "text": [
      "Matched location: 0-4\n",
      "Matched substring: ABCD\n",
      "\n"
     ]
    }
   ],
   "source": [
    "result = re.search(pattern, string_1)\n",
    "print_match_obj(result)"
   ]
  },
  {
   "cell_type": "code",
   "execution_count": 7,
   "metadata": {},
   "outputs": [
    {
     "name": "stdout",
     "output_type": "stream",
     "text": [
      "Matched location: 10-14\n",
      "Matched substring: ABCD\n",
      "\n"
     ]
    }
   ],
   "source": [
    "result = re.search(pattern, string_2)\n",
    "print_match_obj(result)"
   ]
  },
  {
   "cell_type": "markdown",
   "metadata": {},
   "source": [
    "### findall : return all matches as string list"
   ]
  },
  {
   "cell_type": "code",
   "execution_count": 8,
   "metadata": {},
   "outputs": [
    {
     "name": "stdout",
     "output_type": "stream",
     "text": [
      "['ABCD', 'EFGH']\n"
     ]
    }
   ],
   "source": [
    "result = re.findall(pattern, string_2)\n",
    "print(result)"
   ]
  },
  {
   "cell_type": "markdown",
   "metadata": {},
   "source": [
    "### finditer : return all matches as iterator"
   ]
  },
  {
   "cell_type": "code",
   "execution_count": 9,
   "metadata": {},
   "outputs": [
    {
     "name": "stdout",
     "output_type": "stream",
     "text": [
      "Matched location: 10-14\n",
      "Matched substring: ABCD\n",
      "\n",
      "Matched location: 15-19\n",
      "Matched substring: EFGH\n",
      "\n"
     ]
    }
   ],
   "source": [
    "result = re.finditer(pattern, string_2)\n",
    "for m in result:\n",
    "    print_match_obj(m)"
   ]
  },
  {
   "cell_type": "markdown",
   "metadata": {},
   "source": [
    "### more reading:\n",
    "\n",
    "https://docs.python.org/2/howto/regex.html"
   ]
  },
  {
   "cell_type": "code",
   "execution_count": null,
   "metadata": {},
   "outputs": [],
   "source": []
  }
 ],
 "metadata": {
  "kernelspec": {
   "display_name": "Python 3",
   "language": "python",
   "name": "python3"
  },
  "language_info": {
   "codemirror_mode": {
    "name": "ipython",
    "version": 3
   },
   "file_extension": ".py",
   "mimetype": "text/x-python",
   "name": "python",
   "nbconvert_exporter": "python",
   "pygments_lexer": "ipython3",
   "version": "3.6.4"
  }
 },
 "nbformat": 4,
 "nbformat_minor": 2
}
