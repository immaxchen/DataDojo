{
 "cells": [
  {
   "cell_type": "markdown",
   "metadata": {},
   "source": [
    "### match-groups : example by a 192.168.0.0/24 network"
   ]
  },
  {
   "cell_type": "code",
   "execution_count": 1,
   "metadata": {},
   "outputs": [],
   "source": [
    "import re"
   ]
  },
  {
   "cell_type": "code",
   "execution_count": 2,
   "metadata": {},
   "outputs": [],
   "source": [
    "pattern = r'(\\d{1,3}\\.\\d{1,3}\\.\\d{1,3})\\.(\\d{1,3})'"
   ]
  },
  {
   "cell_type": "code",
   "execution_count": 3,
   "metadata": {},
   "outputs": [],
   "source": [
    "string = 'My router IP address is 192.168.0.1 and the broadcast IP address is 192.168.0.255.'"
   ]
  },
  {
   "cell_type": "code",
   "execution_count": 4,
   "metadata": {},
   "outputs": [],
   "source": [
    "result = re.finditer(pattern, string)"
   ]
  },
  {
   "cell_type": "code",
   "execution_count": 5,
   "metadata": {},
   "outputs": [
    {
     "name": "stdout",
     "output_type": "stream",
     "text": [
      "IP address: 192.168.0.1\n",
      "Network prefix: 192.168.0\n",
      "Host part: 1\n",
      "\n",
      "IP address: 192.168.0.255\n",
      "Network prefix: 192.168.0\n",
      "Host part: 255\n",
      "\n"
     ]
    }
   ],
   "source": [
    "for m in result:\n",
    "    print('IP address: %s' % m.group(0))\n",
    "    print('Network prefix: %s' % m.group(1))\n",
    "    print('Host part: %s' % m.group(2))\n",
    "    print()"
   ]
  },
  {
   "cell_type": "code",
   "execution_count": null,
   "metadata": {},
   "outputs": [],
   "source": []
  }
 ],
 "metadata": {
  "kernelspec": {
   "display_name": "Python 3",
   "language": "python",
   "name": "python3"
  },
  "language_info": {
   "codemirror_mode": {
    "name": "ipython",
    "version": 3
   },
   "file_extension": ".py",
   "mimetype": "text/x-python",
   "name": "python",
   "nbconvert_exporter": "python",
   "pygments_lexer": "ipython3",
   "version": "3.6.4"
  }
 },
 "nbformat": 4,
 "nbformat_minor": 2
}
