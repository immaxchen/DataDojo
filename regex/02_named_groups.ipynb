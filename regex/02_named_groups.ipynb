{
 "cells": [
  {
   "cell_type": "markdown",
   "metadata": {},
   "source": [
    "### named match-groups and groupdict"
   ]
  },
  {
   "cell_type": "code",
   "execution_count": 1,
   "metadata": {},
   "outputs": [],
   "source": [
    "import re"
   ]
  },
  {
   "cell_type": "code",
   "execution_count": 2,
   "metadata": {},
   "outputs": [],
   "source": [
    "pattern = r'(?P<FirstName>[^. ]*) (?P<LastName>[^. ]*) is the (?P<Title>[^.]*)'"
   ]
  },
  {
   "cell_type": "code",
   "execution_count": 3,
   "metadata": {},
   "outputs": [],
   "source": [
    "string = 'Jon Snow is the King of the North. Daenerys Targaryen is the Mother of Dragons.'"
   ]
  },
  {
   "cell_type": "code",
   "execution_count": 4,
   "metadata": {},
   "outputs": [],
   "source": [
    "result = re.finditer(pattern, string)"
   ]
  },
  {
   "cell_type": "code",
   "execution_count": 5,
   "metadata": {},
   "outputs": [
    {
     "name": "stdout",
     "output_type": "stream",
     "text": [
      "First Name: Jon\n",
      "Last Name: Snow\n",
      "Title: King of the North\n",
      "To Dict: {'FirstName': 'Jon', 'LastName': 'Snow', 'Title': 'King of the North'}\n",
      "\n",
      "First Name: Daenerys\n",
      "Last Name: Targaryen\n",
      "Title: Mother of Dragons\n",
      "To Dict: {'FirstName': 'Daenerys', 'LastName': 'Targaryen', 'Title': 'Mother of Dragons'}\n",
      "\n"
     ]
    }
   ],
   "source": [
    "for m in result:\n",
    "    print('First Name: %s' % m.group('FirstName'))\n",
    "    print('Last Name: %s' % m.group('LastName'))\n",
    "    print('Title: %s' % m.group('Title'))\n",
    "    print('To Dict: %s' % m.groupdict())\n",
    "    print()"
   ]
  },
  {
   "cell_type": "code",
   "execution_count": null,
   "metadata": {},
   "outputs": [],
   "source": []
  }
 ],
 "metadata": {
  "kernelspec": {
   "display_name": "Python 3",
   "language": "python",
   "name": "python3"
  },
  "language_info": {
   "codemirror_mode": {
    "name": "ipython",
    "version": 3
   },
   "file_extension": ".py",
   "mimetype": "text/x-python",
   "name": "python",
   "nbconvert_exporter": "python",
   "pygments_lexer": "ipython3",
   "version": "3.6.8"
  }
 },
 "nbformat": 4,
 "nbformat_minor": 2
}
